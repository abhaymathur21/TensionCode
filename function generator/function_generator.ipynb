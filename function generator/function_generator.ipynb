{
 "cells": [
  {
   "cell_type": "code",
   "execution_count": 14,
   "metadata": {},
   "outputs": [],
   "source": [
    "import getpass\n",
    "import os\n",
    "from langchain_google_genai import ChatGoogleGenerativeAI\n",
    "from dotenv import load_dotenv\n",
    "\n",
    "load_dotenv('.env')\n",
    "GOOGLE_API_KEY = os.getenv(\"GOOGLE_API_KEY\")\n",
    "\n",
    "if \"GOOGLE_API_KEY\" not in os.environ:\n",
    "    os.environ[\"GOOGLE_API_KEY\"] = GOOGLE_API_KEY"
   ]
  },
  {
   "cell_type": "code",
   "execution_count": 15,
   "metadata": {},
   "outputs": [],
   "source": [
    "def get_input_variables():\n",
    "    variables = []\n",
    "    while True:\n",
    "        variable_name = input(\"Enter variable name (or type 'done' to finish): \")\n",
    "        if variable_name.lower() == 'done':\n",
    "            break\n",
    "        variable_value = input(\"Enter variable value: \")\n",
    "        variables.append((variable_name, variable_value))\n",
    "    \n",
    "    json_data = {}\n",
    "    for var_name, var_value in variables:\n",
    "        json_data[var_name] = var_value\n",
    "        \n",
    "    return json_data\n",
    "\n",
    "def get_mongodb_schema_from_user():\n",
    "    schema = {}\n",
    "    while True:\n",
    "        collection_name = input(\"Enter collection name (or type 'done' to finish): \")\n",
    "        if collection_name.lower() == 'done':\n",
    "            break\n",
    "        fields = []\n",
    "        while True:\n",
    "            field_name = input(f\"Enter field name for collection '{collection_name}' (or type 'done' to finish): \")\n",
    "            if field_name.lower() == 'done':\n",
    "                break\n",
    "            field_type = input(f\"Enter field type for field '{field_name}': \")\n",
    "            fields.append({field_name: field_type})\n",
    "        schema[collection_name] = fields\n",
    "    return schema\n"
   ]
  },
  {
   "cell_type": "code",
   "execution_count": 16,
   "metadata": {},
   "outputs": [],
   "source": [
    "# task = input(\"What do you want to do?\")\n",
    "# function_parameters = get_input_variables()\n",
    "# mongodb_schema = get_mongodb_schema_from_user()"
   ]
  },
  {
   "cell_type": "code",
   "execution_count": 17,
   "metadata": {},
   "outputs": [],
   "source": [
    "task = \"Give a list of users that have bought the given product\"\n",
    "function_parameters = {\"product_id\": \"apple\"}\n",
    "mongodb_schema = {\n",
    "  \"users\": [\n",
    "    { \"user_id\": \"string\", \"username\": \"string\", \"email\": \"string\", \"password\": \"string\", \"created_at\": \"datetime\" }\n",
    "  ],\n",
    "  \"products\": [\n",
    "    { \"product_id\": \"string\", \"name\": \"string\", \"description\": \"string\", \"price\": \"double\", \"stock_quantity\": \"int\", \"created_at\": \"datetime\" }\n",
    "  ],\n",
    "  \"orders\": [\n",
    "    { \"order_id\": \"string\", \"user_id\": \"string\", \"products\": [{\"product_id\": \"string\", \"quantity\": \"int\"}], \"total_amount\": \"double\", \"order_date\": \"datetime\" }\n",
    "  ]\n",
    "}"
   ]
  },
  {
   "cell_type": "code",
   "execution_count": 18,
   "metadata": {},
   "outputs": [
    {
     "name": "stdout",
     "output_type": "stream",
     "text": [
      "```python\n",
      "def get_users_who_bought_product(product_id):\n",
      "    \"\"\"\n",
      "    Given a product id, return a list of users that have bought the given product\n",
      "\n",
      "    Args:\n",
      "        product_id (str): The id of the product\n",
      "\n",
      "    Returns:\n",
      "        list: A list of users that have bought the given product\n",
      "    \"\"\"\n",
      "\n",
      "    # Get all the orders for the given product\n",
      "    orders = db.orders.find({\"products.product_id\": product_id})\n",
      "\n",
      "    # Get all the users who have placed the orders\n",
      "    users = []\n",
      "    for order in orders:\n",
      "        users.append(db.users.find_one({\"user_id\": order[\"user_id\"]}))\n",
      "\n",
      "    return users\n",
      "```\n"
     ]
    }
   ],
   "source": [
    "llm = ChatGoogleGenerativeAI(model=\"gemini-pro\")\n",
    "prompt = f'''\n",
    "                    \n",
    "Task Description: Database Schema to Function Code Generator\n",
    "\n",
    "Generate code for a function in python that performs the task specified on the given database schema. The function should be able to perform the specified task on the given database schema using the provided parameters.  The function should return something relevant to the task.\n",
    "\n",
    "Input function parameters: {function_parameters}\n",
    "Input database schema: {mongodb_schema}\n",
    "Input task: {task}\n",
    "\n",
    "\n",
    "\n",
    "'''\n",
    "result = llm.invoke(prompt)\n",
    "print(result.content)"
   ]
  }
 ],
 "metadata": {
  "kernelspec": {
   "display_name": "venv",
   "language": "python",
   "name": "python3"
  },
  "language_info": {
   "codemirror_mode": {
    "name": "ipython",
    "version": 3
   },
   "file_extension": ".py",
   "mimetype": "text/x-python",
   "name": "python",
   "nbconvert_exporter": "python",
   "pygments_lexer": "ipython3",
   "version": "3.11.4"
  }
 },
 "nbformat": 4,
 "nbformat_minor": 2
}
