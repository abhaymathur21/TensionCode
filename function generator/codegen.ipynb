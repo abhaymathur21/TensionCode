{
 "cells": [
  {
   "cell_type": "code",
   "execution_count": 1,
   "metadata": {},
   "outputs": [
    {
     "name": "stderr",
     "output_type": "stream",
     "text": [
      "c:\\Users\\a21ma\\OneDrive\\Desktop\\HackNiche\\venv\\Lib\\site-packages\\tqdm\\auto.py:21: TqdmWarning: IProgress not found. Please update jupyter and ipywidgets. See https://ipywidgets.readthedocs.io/en/stable/user_install.html\n",
      "  from .autonotebook import tqdm as notebook_tqdm\n"
     ]
    }
   ],
   "source": [
    "import google.generativeai as genai\n",
    "import os\n",
    "from dotenv import load_dotenv\n",
    "\n",
    "load_dotenv('.env')\n",
    "GOOGLE_API_KEY = os.getenv(\"GOOGLE_API_KEY\")\n",
    "\n",
    "genai.configure(api_key=GOOGLE_API_KEY)\n",
    "\n",
    "# Set up the model\n",
    "generation_config = {\n",
    "  \"temperature\": 0.9,\n",
    "  \"top_p\": 1,\n",
    "  \"top_k\": 1,\n",
    "  \"max_output_tokens\": 2048,\n",
    "}\n",
    "\n",
    "safety_settings = [\n",
    "  {\n",
    "    \"category\": \"HARM_CATEGORY_HARASSMENT\",\n",
    "    \"threshold\": \"BLOCK_MEDIUM_AND_ABOVE\"\n",
    "  },\n",
    "  {\n",
    "    \"category\": \"HARM_CATEGORY_HATE_SPEECH\",\n",
    "    \"threshold\": \"BLOCK_MEDIUM_AND_ABOVE\"\n",
    "  },\n",
    "  {\n",
    "    \"category\": \"HARM_CATEGORY_SEXUALLY_EXPLICIT\",\n",
    "    \"threshold\": \"BLOCK_MEDIUM_AND_ABOVE\"\n",
    "  },\n",
    "  {\n",
    "    \"category\": \"HARM_CATEGORY_DANGEROUS_CONTENT\",\n",
    "    \"threshold\": \"BLOCK_MEDIUM_AND_ABOVE\"\n",
    "  },\n",
    "]\n",
    "\n",
    "model = genai.GenerativeModel(model_name=\"gemini-1.0-pro\",\n",
    "                              generation_config=generation_config,\n",
    "                              safety_settings=safety_settings)\n"
   ]
  },
  {
   "cell_type": "code",
   "execution_count": null,
   "metadata": {},
   "outputs": [],
   "source": [
    "import csv\n",
    "\n",
    "def extract_csv_schema(csv_file_path):\n",
    "    with open(csv_file_path, 'r', newline='') as file:\n",
    "        reader = csv.reader(file)\n",
    "        header = next(reader)  # Read the first row (header) of the CSV file\n",
    "    # Create a dictionary where keys are column names and values are None\n",
    "    schema = {column_name: None for column_name in header}\n",
    "    return schema\n",
    "\n",
    "# Example usage:\n",
    "csv_file_path = 'example.csv'  # Change this to your CSV file path\n",
    "schema = extract_csv_schema(csv_file_path)\n",
    "print(\"CSV Schema:\")\n",
    "print(schema)\n"
   ]
  },
  {
   "cell_type": "code",
   "execution_count": 8,
   "metadata": {},
   "outputs": [],
   "source": [
    "language = \"python\"\n",
    "# language = \"javascript\"\n",
    "\n",
    "function_template = \"\"\"\n",
    "function studentPerformance(inputParams) {\n",
    "// Write your code here\n",
    "\n",
    "return {\n",
    "    data : outputData,\n",
    "}\n",
    "\n",
    "}\n",
    "\"\"\"\n",
    "\n",
    "input_params = \"{}\"\n",
    "\n",
    "output_format = \"\"\"\n",
    "{\n",
    "  physics: { min:int, max:int, mean:float },\n",
    "  chemistry: { min:int, max:int, mean:float },\n",
    "  maths: { min:int, max:int, mean:float },\n",
    "}\n",
    "\"\"\"\n",
    "\n",
    "provider = \"mongodb\"\n",
    "\n",
    "schema = \"\"\"\n",
    "const studentSchema = {\n",
    "  name: { type: String, required: true },\n",
    "  age: { type: Number, required: true },\n",
    "  marks: {\n",
    "    physics: { type: Number, required: true },\n",
    "    chemistry: { type: Number, required: true },\n",
    "    maths: { type: Number, required: true },\n",
    "  },\n",
    "};\n",
    "\"\"\"\n",
    "\n",
    "task = \"Write a function to generate a summary of student performance using mean, min and max marks in each subject.\""
   ]
  },
  {
   "cell_type": "code",
   "execution_count": 9,
   "metadata": {},
   "outputs": [
    {
     "data": {
      "text/plain": [
       "['\\nYou are a code generation system.\\nYour job is to generate a complete function that performs the mentioned task.\\nThe function input is parsed as an object from JSON request body.\\nThe function output is sent as a JSON response.\\nYou have access to libraries and packages for the mentioned language and database.\\nYou can use the schema provided to generate the function.\\nYou have to ensure that the function is safe and secure to use.\\nYou have to ensure that the function is efficient and scalable.\\nUse the function template provided to write the function.\\nUse the input and output format provided to write the function.\\nUse the database schema provided to write the function.\\nUse the DB specific libraries and packages to interact with the database.\\nAdd the necessary error handling and validation to the function.\\nAdd the neccessary imports and dependencies to the function.\\n\\nLanguage: python\\n\\nFunction Template: \\nfunction studentPerformance(inputParams) {\\n// Write your code here\\n\\nreturn {\\n    data : outputData,\\n}\\n\\n}\\n\\n\\ninput =  {}\\noutput =  \\n{\\n  \\n}\\n\\n\\nsuch that function(input) = output\\n\\n\\nDatabase:\\nProvider: mongodb\\nSchema:\\n\\nconst studentSchema = {\\n  name: { type: String, required: true },\\n  age: { type: Number, required: true },\\n  marks: {\\n    physics: { type: Number, required: true },\\n    chemistry: { type: Number, required: true },\\n    maths: { type: Number, required: true },\\n  },\\n};\\n\\n\\nTask: Write a function to generate a summary of student performance using mean, min and max marks in each subject.\\n\\nRespond with only the function code.\\nResponse:\\n']"
      ]
     },
     "execution_count": 9,
     "metadata": {},
     "output_type": "execute_result"
    }
   ],
   "source": [
    "\n",
    "prompt_parts = [\n",
    "f\"\"\"\n",
    "You are a code generation system.\n",
    "Your job is to generate a complete function that performs the mentioned task.\n",
    "The function input is parsed as an JSON object\n",
    "The function output is sent as a JSON response.\n",
    "You have access to libraries and packages for the mentioned language and database.\n",
    "You can use the schema provided to generate the function.\n",
    "You have to ensure that the function is safe and secure to use.\n",
    "You have to ensure that the function is efficient and scalable.\n",
    "Use the function template provided to write the function.\n",
    "Use the input and output format provided to write the function.\n",
    "Add the necessary error handling and validation to the function.\n",
    "\n",
    "Language: {language}\n",
    "\n",
    "Function Template: {function_template}\n",
    "\n",
    "input =  {input_params}\n",
    "output =  {output_format}\n",
    "\n",
    "such that function(input) = output\n",
    "\n",
    "\n",
    "Database:\n",
    "Provider: {provider}\n",
    "Schema:\n",
    "{schema}\n",
    "\n",
    "Task: {task}\n",
    "\n",
    "Respond with only the function code.\n",
    "Response:\n",
    "\"\"\"\n",
    "]\n",
    "prompt_parts"
   ]
  },
  {
   "cell_type": "code",
   "execution_count": 10,
   "metadata": {},
   "outputs": [
    {
     "name": "stdout",
     "output_type": "stream",
     "text": [
      "```python\n",
      "import pymongo\n",
      "\n",
      "def studentPerformance(inputParams):\n",
      "    \n",
      "    # connect to mongodb\n",
      "    client = pymongo.MongoClient(\"mongodb://localhost:27017/\")\n",
      "    db = client[\"studentPerformance\"]\n",
      "    collection = db[\"student\"]\n",
      "    \n",
      "    # calculate mean, min and max marks in each subject\n",
      "    mean_marks = {}\n",
      "    min_marks = {}\n",
      "    max_marks = {}\n",
      "    for subject in [\"physics\", \"chemistry\", \"maths\"]:\n",
      "        marks = list(collection.distinct(subject))\n",
      "        mean_marks[subject] = sum(marks) / len(marks)\n",
      "        min_marks[subject] = min(marks)\n",
      "        max_marks[subject] = max(marks)\n",
      "    \n",
      "    # prepare output data\n",
      "    outputData = {\n",
      "        \"mean_marks\": mean_marks,\n",
      "        \"min_marks\": min_marks,\n",
      "        \"max_marks\": max_marks\n",
      "    }\n",
      "    \n",
      "    # return output data\n",
      "    return {\n",
      "        \"data\": outputData\n",
      "    }\n",
      "\n",
      "```\n"
     ]
    }
   ],
   "source": [
    "\n",
    "response = model.generate_content(prompt_parts)\n",
    "print(response.text)"
   ]
  }
 ],
 "metadata": {
  "kernelspec": {
   "display_name": "Python 3",
   "language": "python",
   "name": "python3"
  },
  "language_info": {
   "codemirror_mode": {
    "name": "ipython",
    "version": 3
   },
   "file_extension": ".py",
   "mimetype": "text/x-python",
   "name": "python",
   "nbconvert_exporter": "python",
   "pygments_lexer": "ipython3",
   "version": "3.11.4"
  }
 },
 "nbformat": 4,
 "nbformat_minor": 2
}
